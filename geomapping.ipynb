{
 "cells": [
  {
   "cell_type": "code",
   "execution_count": 18,
   "metadata": {},
   "outputs": [
    {
     "name": "stderr",
     "output_type": "stream",
     "text": [
      "/Users/dom/opt/anaconda3/envs/hotelstats/lib/python3.9/site-packages/fuzzywuzzy/fuzz.py:11: UserWarning: Using slow pure-python SequenceMatcher. Install python-Levenshtein to remove this warning\n",
      "  warnings.warn('Using slow pure-python SequenceMatcher. Install python-Levenshtein to remove this warning')\n"
     ]
    }
   ],
   "source": [
    "from geopy.geocoders import Nominatim\n",
    "import pandas as pd\n",
    "import numpy as np\n",
    "import time\n",
    "from datetime import date\n",
    "from fuzzywuzzy import fuzz\n",
    "from fuzzywuzzy import process"
   ]
  },
  {
   "cell_type": "code",
   "execution_count": 5,
   "metadata": {},
   "outputs": [],
   "source": [
    "def geocode_address(address):\n",
    "    if pd.isna(address):\n",
    "        return None\n",
    "\n",
    "    # Initialize the geocoder with the appropriate user_agent and user_agent_headers\n",
    "    user_agent = 'Datachalet'\n",
    "    geolocator = Nominatim(user_agent=user_agent)\n",
    "\n",
    "    # Geocode the address to get the latitude and longitude\n",
    "    location = geolocator.geocode(address)\n",
    "\n",
    "    if location:\n",
    "        latitude = location.latitude\n",
    "        longitude = location.longitude\n",
    "\n",
    "        # Pause for 1 second before the next geocoding request\n",
    "        time.sleep(1.2)\n",
    "\n",
    "        return latitude, longitude\n",
    "    else:\n",
    "        return None\n"
   ]
  },
  {
   "cell_type": "code",
   "execution_count": 6,
   "metadata": {},
   "outputs": [],
   "source": [
    "# current_date = date.today().strftime(\"%Y%m%d\")\n",
    "# df = pd.read_feather(f\"data/{current_date}_Scraped_Data_Hotels.feather\")\n",
    "# df['Address'] = df['Strasse'] + ', ' + df['PLZ'] + ', ' + df['Ort']\n",
    "# # Assuming you have already loaded the DataFrame into the variable df\n",
    "# # Apply the geocode_address function to the \"Address\" column\n",
    "# df[['Latitude', 'Longitude']] = df['Address'].apply(geocode_address).apply(pd.Series)"
   ]
  },
  {
   "cell_type": "code",
   "execution_count": 8,
   "metadata": {},
   "outputs": [],
   "source": [
    "# # Export the scraped Data\n",
    "# current_date = date.today().strftime(\"%Y%m%d\")\n",
    "# filename = f\"data/{current_date}_Scraped_Data_Hotels_Geo.feather\"\n",
    "# df.to_feather(filename)"
   ]
  },
  {
   "cell_type": "code",
   "execution_count": 79,
   "metadata": {},
   "outputs": [],
   "source": [
    "df = pd.read_feather(f\"data/20230718_Scraped_Data_Hotels_Geo.feather\")\n",
    "gemeinden_df = pd.read_excel('data/gemeindenbfs.xlsx', sheet_name='GDE')\n",
    "plz_df = plz_df = pd.read_csv('data/plz_verzeichnis.csv',sep=';')\n",
    "df_urls = pd.read_feather(f\"data/20230718_Scraped_Data_Urls.feather\")"
   ]
  },
  {
   "cell_type": "code",
   "execution_count": 80,
   "metadata": {},
   "outputs": [],
   "source": [
    "# Convert 'PLZ' column to numeric type and replace non-numeric values with NaN\n",
    "#df['PLZ'] = pd.to_numeric(df['PLZ'], errors='coerce')\n",
    "merged_df = pd.merge(df,plz_df, left_on='Ort', right_on='ortbez18', how='left')\n",
    "merged_df = pd.merge(merged_df,df_urls, left_on='url', right_on='Link', how='left')\n",
    "merged_df = merged_df.drop_duplicates(subset='Hotel').reset_index()"
   ]
  },
  {
   "cell_type": "code",
   "execution_count": 82,
   "metadata": {},
   "outputs": [
    {
     "data": {
      "text/plain": [
       "3-Sterne Hotel                  590\n",
       "4-Sterne Hotel                  372\n",
       "Swiss Lodge                     355\n",
       "3-Sterne Superior Hotel         143\n",
       "4-Sterne Superior Hotel         113\n",
       "5-Sterne Superior Hotel          69\n",
       "2-Sterne Hotel                   63\n",
       "5-Sterne Hotel                   36\n",
       "2-Sterne Superior Hotel          20\n",
       "1-Stern Superior Hotel            7\n",
       "1-Stern Hotel                     6\n",
       "5-Sterne Serviced Apartments      3\n",
       "4-Sterne Serviced Apartments      3\n",
       "3-Sterne Serviced Apartments      2\n",
       "2-Sterne Serviced Apartments      1\n",
       "Name: Stars, dtype: int64"
      ]
     },
     "execution_count": 82,
     "metadata": {},
     "output_type": "execute_result"
    }
   ],
   "source": [
    "merged_df.Stars.value_counts()"
   ]
  },
  {
   "cell_type": "code",
   "execution_count": 83,
   "metadata": {},
   "outputs": [],
   "source": [
    "merged_df = merged_df.rename(columns={\"Latitude\": \"lat\", \"Longitude\": \"lon\"})"
   ]
  },
  {
   "cell_type": "code",
   "execution_count": 84,
   "metadata": {},
   "outputs": [],
   "source": [
    "# Export the scraped Data\n",
    "current_date = date.today().strftime(\"%Y%m%d\")\n",
    "filename = f\"data/{current_date}_Hotels.feather\"\n",
    "merged_df.to_feather(filename)"
   ]
  },
  {
   "cell_type": "code",
   "execution_count": 85,
   "metadata": {},
   "outputs": [],
   "source": [
    "df = pd.read_feather(f\"data/20230721_Hotels.feather\")"
   ]
  },
  {
   "cell_type": "code",
   "execution_count": 73,
   "metadata": {},
   "outputs": [
    {
     "name": "stdout",
     "output_type": "stream",
     "text": [
      "<class 'pandas.core.series.Series'>\n",
      "RangeIndex: 3822 entries, 0 to 3821\n",
      "Series name: Anzahl_Zimmer_Apartments\n",
      "Non-Null Count  Dtype\n",
      "--------------  -----\n",
      "3685 non-null   Int64\n",
      "dtypes: Int64(1)\n",
      "memory usage: 33.7 KB\n"
     ]
    }
   ],
   "source": [
    "df.Anzahl_Zimmer_Apartments.info()"
   ]
  }
 ],
 "metadata": {
  "kernelspec": {
   "display_name": "hotelstats",
   "language": "python",
   "name": "python3"
  },
  "language_info": {
   "codemirror_mode": {
    "name": "ipython",
    "version": 3
   },
   "file_extension": ".py",
   "mimetype": "text/x-python",
   "name": "python",
   "nbconvert_exporter": "python",
   "pygments_lexer": "ipython3",
   "version": "3.9.16"
  },
  "orig_nbformat": 4
 },
 "nbformat": 4,
 "nbformat_minor": 2
}
